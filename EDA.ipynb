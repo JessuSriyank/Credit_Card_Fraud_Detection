import pandas as pd
import matplotlib.pyplot as plt
import seaborn as sns

# Load dataset
dataset = pd.read_csv("../data/dataset.csv")

# Plot distribution of fraud and non-fraud transactions
labels = dataset['Class'].value_counts()
plt.bar(labels.index, labels.values)
plt.xticks([0, 1], ['Non-Fraud', 'Fraud'])
plt.title('Transaction Class Distribution')
plt.show()
